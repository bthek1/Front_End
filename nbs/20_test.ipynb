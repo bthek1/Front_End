{
 "cells": [
  {
   "cell_type": "markdown",
   "id": "5bf4a204-4531-4f5a-9959-32f16eee8619",
   "metadata": {},
   "source": [
    "# Test\n",
    "\n",
    "- skip_showdoc: true\n",
    "- skip_exec: true"
   ]
  },
  {
   "cell_type": "markdown",
   "id": "2c6cbc48-50d5-4696-860c-911fcefc7647",
   "metadata": {},
   "source": [
    "## **2. Headings**\n",
    "```markdown\n",
    "# Heading 1\n",
    "## Heading 2\n",
    "### Heading 3\n",
    "#### Heading 4\n",
    "##### Heading 5\n",
    "###### Heading 6\n",
    "```\n",
    " \n",
    "### Heading 3  \n",
    "#### Heading 4  \n",
    "##### Heading 5  \n",
    "###### Heading 6  \n",
    "\n",
    "---"
   ]
  },
  {
   "cell_type": "markdown",
   "id": "58e542de-cdbc-4d4c-9171-6d8db84325e5",
   "metadata": {},
   "source": [
    "## **3. Lists**\n",
    "### **Ordered List**\n",
    "```markdown\n",
    "1. First item\n",
    "2. Second item\n",
    "   1. Sub-item\n",
    "   2. Sub-item\n",
    "3. Third item\n",
    "```\n",
    "1. First item  \n",
    "2. Second item  \n",
    "   1. Sub-item  \n",
    "   2. Sub-item  \n",
    "3. Third item  \n",
    "\n",
    "### **Unordered List**\n",
    "```markdown\n",
    "- First item\n",
    "- Second item\n",
    "  - Sub-item\n",
    "  - Sub-item\n",
    "- Third item\n",
    "```\n",
    "- First item  \n",
    "- Second item  \n",
    "  - Sub-item  \n",
    "  - Sub-item  \n",
    "- Third item  \n",
    "\n",
    "---"
   ]
  },
  {
   "cell_type": "markdown",
   "id": "3f234546-fd09-4b1e-865e-5035ea6fdef1",
   "metadata": {},
   "source": [
    "## **4. Links**\n",
    "```markdown\n",
    "[Clickable text](https://example.com)\n",
    "```\n",
    "[Clickable text](https://example.com)\n",
    "\n",
    "### **Reference-style Links**\n",
    "```markdown\n",
    "[Clickable text][1]\n",
    "\n",
    "[1]: https://example.com\n",
    "```\n",
    "\n",
    "---"
   ]
  },
  {
   "cell_type": "markdown",
   "id": "0849acbf-41b0-459b-89e9-6792f66f2625",
   "metadata": {},
   "source": [
    "## **5. Images**\n",
    "```markdown\n",
    "![Alt text](https://example.com/image.png)\n",
    "```\n",
    "![Alt text](https://example.com/image.png)\n",
    "\n",
    "---"
   ]
  },
  {
   "cell_type": "markdown",
   "id": "5d3d5b01-0fff-47da-8a87-e3ea4a9ed60d",
   "metadata": {},
   "source": [
    "## **6. Code**\n",
    "### **Inline Code**\n",
    "```markdown\n",
    "`Inline code`\n",
    "```\n",
    "`Inline code`\n",
    "\n",
    "### **Code Block**\n",
    "```markdown\n",
    "```\n",
    "Code block\n",
    "```\n",
    "```\n",
    "\n",
    "For specific languages:\n",
    "```markdown\n",
    "\\```python\n",
    "print(\"Hello, World!\")\n",
    "\\```\n",
    "```\n",
    "\n",
    "---"
   ]
  },
  {
   "cell_type": "markdown",
   "id": "99c5735a-dde5-4bb2-a87d-eec92e4560b5",
   "metadata": {},
   "source": [
    "## **7. Blockquotes**\n",
    "```markdown\n",
    "> This is a blockquote\n",
    ">> Nested blockquote\n",
    "```\n",
    "> This is a blockquote  \n",
    ">> Nested blockquote  \n",
    "\n",
    "---"
   ]
  },
  {
   "cell_type": "markdown",
   "id": "08476f40-1c64-4eba-ba56-2bb9b8b7532c",
   "metadata": {},
   "source": [
    "## **9. Tables**\n",
    "```markdown\n",
    "| Column 1 | Column 2 | Column 3 |\n",
    "|----------|----------|----------|\n",
    "| Value 1  | Value 2  | Value 3  |\n",
    "| Value A  | Value B  | Value C  |\n",
    "```\n",
    "| Column 1 | Column 2 | Column 3 |\n",
    "|----------|----------|----------|\n",
    "| Value 1  | Value 2  | Value 3  |\n",
    "| Value A  | Value B  | Value C  |\n",
    "\n",
    "\n",
    "::: {#tbl-panel layout-ncol=2}\n",
    "| Col1 | Col2 | Col3 |\n",
    "|------|------|------|\n",
    "| A    | B    | C    |\n",
    "| E    | F    | G    |\n",
    "| A    | G    | G    |\n",
    "\n",
    ": First Table {#tbl-first}\n",
    "\n",
    "| Col1 | Col2 | Col3 |\n",
    "|------|------|------|\n",
    "| A    | B    | C    |\n",
    "| E    | F    | G    |\n",
    "| A    | G    | G    |\n",
    "\n",
    ": Second Table {#tbl-second}\n",
    "\n",
    "Main Caption\n",
    ":::\n",
    "\n",
    "---\n",
    "\n"
   ]
  },
  {
   "cell_type": "markdown",
   "id": "c1cea0bd-44d9-43e4-a4ab-c2596fc65e89",
   "metadata": {},
   "source": [
    "## **10. Task Lists**\n",
    "```markdown\n",
    "- [x] Completed task\n",
    "- [ ] Incomplete task\n",
    "```\n",
    "- [x] Completed task  \n",
    "- [ ] Incomplete task  \n",
    "\n",
    "---"
   ]
  },
  {
   "cell_type": "markdown",
   "id": "4080e662-86a9-4397-a7d3-31d51229b422",
   "metadata": {},
   "source": [
    "## **11. Escaping Characters**\n",
    "To include Markdown characters as literal text, use a backslash (`\\`):\n",
    "```markdown\n",
    "\\*Literal asterisk\\*\n",
    "```\n",
    "\\*Literal asterisk\\*\n",
    "\n",
    "---"
   ]
  },
  {
   "cell_type": "markdown",
   "id": "c36dbc8c-c590-4e7a-bbf2-6dca8620b1a8",
   "metadata": {},
   "source": [
    "## **12. Advanced Syntax**\n",
    "### **Footnotes**\n",
    "```markdown\n",
    "This is a sentence with a footnote.[^1]\n",
    "\n",
    "[^1]: This is the footnote text.\n",
    "```\n",
    "This is a sentence with a footnote.[^1]\n",
    "\n",
    "[^1]: This is the footnote text."
   ]
  },
  {
   "cell_type": "markdown",
   "id": "77477609-d888-43d9-927e-06d9cd0ec2d4",
   "metadata": {},
   "source": [
    "### **Definition Lists**\n",
    "```markdown\n",
    "Term 1\n",
    ": Definition 1\n",
    "\n",
    "Term 2\n",
    ": Definition 2\n",
    "```\n",
    "Term 1  \n",
    ": Definition 1  \n",
    "\n",
    "Term 2  \n",
    ": Definition 2  \n",
    "\n",
    "---"
   ]
  },
  {
   "cell_type": "markdown",
   "id": "912b1049-414c-427f-865f-e1b54373151b",
   "metadata": {},
   "source": [
    "## **13. HTML in Markdown**\n",
    "You can include raw HTML for additional formatting:\n",
    "```markdown\n",
    "<div style=\"color: blue;\">This text is blue</div>\n",
    "```\n",
    "<div style=\"color: blue;\">This text is blue</div>\n",
    "\n",
    "---"
   ]
  },
  {
   "cell_type": "markdown",
   "id": "15631e94-bf73-4432-a4b0-b0f3647799e9",
   "metadata": {},
   "source": [
    "## **14. Extensions**\n",
    "Many Markdown processors support extended syntax:\n",
    "- **Math** (e.g., LaTeX):\n",
    "  ```markdown\n",
    "  $$E = mc^2$$\n",
    "  ```\n",
    "  \\(E = mc^2\\)\n",
    "\n",
    "- **Mermaid Diagrams**:\n",
    "  ```markdown\n",
    "  ```mermaid\n",
    "  graph TD;\n",
    "      A-->B;\n",
    "  ```\n",
    "  ```\n",
    "\n",
    "---"
   ]
  },
  {
   "cell_type": "markdown",
   "id": "f2bb4e92-537a-4dbc-b036-864a468fe92f",
   "metadata": {},
   "source": [
    "## 15. Diagrams"
   ]
  },
  {
   "cell_type": "markdown",
   "id": "3a03b871-4fa3-44c9-afaf-99b961882cbf",
   "metadata": {},
   "source": [
    "```{dot}\n",
    "digraph {\n",
    "    A -> B;\n",
    "    A -> C;\n",
    "    B -> D;\n",
    "    C -> D;\n",
    "}\n",
    "```"
   ]
  },
  {
   "cell_type": "markdown",
   "id": "f09a699e-dca2-4080-9dfc-8936a03bbd7c",
   "metadata": {},
   "source": [
    "```{mermaid}\n",
    "flowchart LR\n",
    "  A[Hard edge] --> B(Round edge)\n",
    "  B --> C{Decision}\n",
    "  C --> D[Result one]\n",
    "  C --> E[Result two]\n",
    "```"
   ]
  },
  {
   "cell_type": "markdown",
   "id": "be2add62-823e-4d28-91e4-1b8a945d2e63",
   "metadata": {},
   "source": [
    "## 16. Callouts"
   ]
  },
  {
   "cell_type": "markdown",
   "id": "4ba550ea-0c90-4332-b68a-51b2637135fc",
   "metadata": {},
   "source": [
    "::: {.callout-note}\n",
    "Note that there are five types of callouts, including:\n",
    "`note`, `warning`, `important`, `tip`, and `caution`.\n",
    ":::\n",
    "\n",
    "::: {.callout-tip}\n",
    "## Tip with Title\n",
    "\n",
    "This is an example of a callout with a title.\n",
    ":::\n",
    "\n",
    "::: {.callout-caution collapse=\"true\"}\n",
    "## Expand To Learn About Collapse\n",
    "\n",
    "This is an example of a 'folded' caution callout that can be expanded by the user. You can use `collapse=\"true\"` to collapse it by default or `collapse=\"false\"` to make a collapsible callout that is expanded by default.\n",
    ":::"
   ]
  },
  {
   "cell_type": "markdown",
   "id": "f9917bfa-c787-46e8-87e9-8c8ca828416c",
   "metadata": {},
   "source": [
    "## Shortcuts and Tricks"
   ]
  },
  {
   "cell_type": "markdown",
   "id": "a4251f25-a764-4e69-be62-37ca8b4f3689",
   "metadata": {},
   "source": [
    "### Command Mode Shortcuts"
   ]
  },
  {
   "cell_type": "markdown",
   "id": "ab454df1-a6ef-4476-b5b4-a7bf47d7f25b",
   "metadata": {},
   "source": [
    "There are a couple of useful keyboard shortcuts in `Command Mode` that you can leverage to make Jupyter Notebook faster to use. Remember that you can switch back and forth between `Command Mode` and `Edit Mode` with <kbd>Esc</kbd> and <kbd>Enter</kbd>.\n",
    "\n",
    "- m:: Convert cell to Markdown\n",
    "- y:: Convert cell to Code\n",
    "- d+d:: Delete cell\n",
    "- o:: Toggle between hide or show output\n",
    "- Shift+Arrow up/Arrow down:: Select multiple cells. Once you have selected them you can operate on them like a batch (run, copy, paste etc).\n",
    "- Shift+M:: Merge selected cells\n"
   ]
  },
  {
   "cell_type": "markdown",
   "id": "6bac5582-21ab-4e9e-b555-7add668ce411",
   "metadata": {},
   "source": [
    "### Cell Tricks"
   ]
  },
  {
   "cell_type": "markdown",
   "id": "13c09d27-fae9-47c4-81eb-016740b6fbf1",
   "metadata": {},
   "source": [
    "There are also some tricks that you can code into a cell:\n",
    "\n",
    "- `?function-name`:: Shows the definition and docstring for that function\n",
    "- `??function-name`:: Shows the source code for that function\n",
    "- `doc(function-name)`:: Shows the definition, docstring **and links to the documentation** of the function\n",
    "(only works with fastai library imported)\n",
    "- Shift+Tab (press once):: See which parameters to pass to a function \n",
    "- Shift+Tab (press three times):: Get additional information on the method\n",
    "\n",
    "Here's an example of using `?` to learn about Python's `print()` function:"
   ]
  },
  {
   "cell_type": "code",
   "execution_count": null,
   "id": "71a3b2bf-f764-4902-bd6d-6867691635fb",
   "metadata": {},
   "outputs": [],
   "source": []
  },
  {
   "cell_type": "code",
   "execution_count": null,
   "id": "850a9bd0-76c7-41e6-a8c4-0c2995a9968f",
   "metadata": {},
   "outputs": [],
   "source": []
  }
 ],
 "metadata": {
  "kernelspec": {
   "display_name": "python3",
   "language": "python",
   "name": "python3"
  }
 },
 "nbformat": 4,
 "nbformat_minor": 5
}
