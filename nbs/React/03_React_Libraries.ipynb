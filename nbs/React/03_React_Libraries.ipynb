{
 "cells": [
  {
   "cell_type": "markdown",
   "id": "79724507-12cf-441d-9a0f-e1fdf1dfe4fd",
   "metadata": {},
   "source": [
    "# React Libraries\n",
    "\n",
    "> Here’s a curated list of **popular and essential npm add-ons for React projects**, organized by category, including their purpose, popularity, and common use cases.\n",
    "\n",
    "\n",
    "- skip_showdoc: true\n",
    "- skip_exec: true"
   ]
  },
  {
   "cell_type": "markdown",
   "id": "cf3e713d-d8ba-49e8-8761-cbec3c447a39",
   "metadata": {},
   "source": [
    "---\n",
    "\n",
    "## 📦 1. **Routing & Navigation**\n",
    "\n",
    "| Package                  | Use Case                                                    |\n",
    "| ------------------------ | ----------------------------------------------------------- |\n",
    "| `react-router-dom`       | Declarative routing (SPA, nested routes, lazy loading)      |\n",
    "| `@tanstack/react-router` | Advanced router with data loading, similar to Remix/Next.js |\n",
    "\n",
    "```bash\n",
    "npm install react-router-dom\n",
    "```\n",
    "\n",
    "---"
   ]
  },
  {
   "cell_type": "markdown",
   "id": "164d45b6-604e-4ec7-999e-afbb60d695af",
   "metadata": {},
   "source": [
    "## 🌍 2. **Global State Management**\n",
    "\n",
    "| Package                 | Description                                                   |\n",
    "| ----------------------- | ------------------------------------------------------------- |\n",
    "| `zustand`               | Simple, scalable state with hooks (minimal Redux alternative) |\n",
    "| `redux` + `react-redux` | Predictable state container (more boilerplate)                |\n",
    "| `jotai`                 | Primitive and minimal atomic state                            |\n",
    "| `recoil`                | State management by Meta (atom/selectors model)               |\n",
    "\n",
    "```bash\n",
    "npm install zustand\n",
    "```\n",
    "\n",
    "---"
   ]
  },
  {
   "cell_type": "markdown",
   "id": "4cb99a1f-7ebd-4545-b5ed-ca5a53f54e16",
   "metadata": {},
   "source": [
    "## 🔌 3. **Data Fetching / Caching**\n",
    "\n",
    "| Package                               | Description                                 |\n",
    "| ------------------------------------- | ------------------------------------------- |\n",
    "| `@tanstack/react-query` (React Query) | Caching, revalidation, pagination           |\n",
    "| `swr`                                 | Lightweight data-fetching library by Vercel |\n",
    "\n",
    "```bash\n",
    "npm install @tanstack/react-query\n",
    "```\n",
    "\n",
    "---"
   ]
  },
  {
   "cell_type": "markdown",
   "id": "f4a92384-45b8-4167-bff8-f391da0cf772",
   "metadata": {},
   "source": [
    "## 🎨 4. **Styling**\n",
    "\n",
    "| Package             | Description                        |\n",
    "| ------------------- | ---------------------------------- |\n",
    "| `tailwindcss`       | Utility-first CSS framework        |\n",
    "| `styled-components` | CSS-in-JS styling                  |\n",
    "| `@emotion/react`    | Another powerful CSS-in-JS library |\n",
    "| `classnames`        | Conditionally join classNames      |\n",
    "\n",
    "```bash\n",
    "npm install tailwindcss classnames\n",
    "```\n",
    "\n",
    "---"
   ]
  },
  {
   "cell_type": "markdown",
   "id": "78131ec4-4189-49a4-bf7d-618ed7ee002e",
   "metadata": {},
   "source": [
    "## 🧪 5. **Testing**\n",
    "\n",
    "| Package                  | Description                   |\n",
    "| ------------------------ | ----------------------------- |\n",
    "| `@testing-library/react` | Test components like users do |\n",
    "| `jest` / `vitest`        | Test runners                  |\n",
    "| `cypress` / `playwright` | E2E browser testing           |\n",
    "\n",
    "```bash\n",
    "npm install --save-dev @testing-library/react vitest\n",
    "```\n",
    "\n",
    "---"
   ]
  },
  {
   "cell_type": "markdown",
   "id": "4fea26a0-7316-4015-a8c0-034871bd9c8f",
   "metadata": {},
   "source": [
    "## 🎭 6. **Form Handling & Validation**\n",
    "\n",
    "| Package           | Description                         |\n",
    "| ----------------- | ----------------------------------- |\n",
    "| `react-hook-form` | Performant, minimal form management |\n",
    "| `formik`          | Traditional form state management   |\n",
    "| `zod` / `yup`     | Schema validation libraries         |\n",
    "\n",
    "```bash\n",
    "npm install react-hook-form zod\n",
    "```\n",
    "\n",
    "---"
   ]
  },
  {
   "cell_type": "markdown",
   "id": "8a9470c8-6404-4658-8496-8e6fbd8e99c1",
   "metadata": {},
   "source": [
    "## 🧱 7. **UI Components / Design Systems**\n",
    "\n",
    "| Package            | Description                              |\n",
    "| ------------------ | ---------------------------------------- |\n",
    "| `@mui/material`    | Google's Material UI                     |\n",
    "| `@chakra-ui/react` | Accessible, composable component library |\n",
    "| `shadcn/ui`        | Modern, headless + Tailwind components   |\n",
    "| `antd`             | Enterprise-grade components (Ant Design) |\n",
    "\n",
    "```bash\n",
    "npm install @mui/material @emotion/react @emotion/styled\n",
    "```\n",
    "\n",
    "---"
   ]
  },
  {
   "cell_type": "markdown",
   "id": "5ea0fd7f-491f-48aa-bebb-cea782f931ee",
   "metadata": {},
   "source": [
    "## 📊 8. **Charts & Visualization**\n",
    "\n",
    "| Package                        | Description                     |\n",
    "| ------------------------------ | ------------------------------- |\n",
    "| `recharts`                     | Composable chart components     |\n",
    "| `chart.js` + `react-chartjs-2` | Popular canvas-based charting   |\n",
    "| `plotly.js`                    | Interactive and powerful charts |\n",
    "\n",
    "```bash\n",
    "npm install recharts\n",
    "```\n",
    "\n",
    "---"
   ]
  },
  {
   "cell_type": "markdown",
   "id": "7eccc94c-0999-4664-84bb-bd3fb2ef4f3e",
   "metadata": {},
   "source": [
    "## 🔧 9. **Dev Tools & Productivity**\n",
    "\n",
    "| Package               | Description                 |\n",
    "| --------------------- | --------------------------- |\n",
    "| `eslint` + `prettier` | Code quality and formatting |\n",
    "| `vite-plugin-eslint`  | Live linting in Vite        |\n",
    "| `eslint-plugin-react` | React-specific lint rules   |\n",
    "| `typescript`          | Optional static typing      |\n",
    "\n",
    "```bash\n",
    "npm install -D eslint prettier eslint-plugin-react\n",
    "```\n",
    "\n",
    "---"
   ]
  },
  {
   "cell_type": "markdown",
   "id": "2620d495-5990-459a-b07d-ab8b49aede77",
   "metadata": {},
   "source": [
    "## 🧠 10. **AI & LLM Integration**\n",
    "\n",
    "| Package                | Description                                        |\n",
    "| ---------------------- | -------------------------------------------------- |\n",
    "| `langchain`            | Chain logic and prompts for LLMs                   |\n",
    "| `openai`               | Direct API client to OpenAI                        |\n",
    "| `@xenova/transformers` | Transformers.js inference in browser (LLM locally) |\n",
    "\n",
    "```bash\n",
    "npm install openai\n",
    "```\n",
    "\n",
    "---"
   ]
  },
  {
   "cell_type": "markdown",
   "id": "e1a86244-a39e-4302-85ad-92c80454f497",
   "metadata": {},
   "source": [
    "## 🔌 11. **Other Handy Utilities**\n",
    "\n",
    "| Package               | Use                        |\n",
    "| --------------------- | -------------------------- |\n",
    "| `axios`               | HTTP client                |\n",
    "| `dayjs` or `date-fns` | Date manipulation          |\n",
    "| `uuid`                | Generate UUIDs             |\n",
    "| `dotenv`              | Load environment variables |\n",
    "\n",
    "```bash\n",
    "npm install axios dayjs uuid\n",
    "```\n",
    "\n",
    "---"
   ]
  },
  {
   "cell_type": "markdown",
   "id": "40122bed-4794-4848-b39e-200f26c30b0e",
   "metadata": {},
   "source": [
    "## 📘 Summary Table\n",
    "\n",
    "| Category      | Must-Have Addons                                 |\n",
    "| ------------- | ------------------------------------------------ |\n",
    "| Routing       | `react-router-dom`                               |\n",
    "| State         | `zustand`, `redux`, `jotai`                      |\n",
    "| Data Fetching | `@tanstack/react-query`, `swr`                   |\n",
    "| Styling       | `tailwindcss`, `styled-components`, `classnames` |\n",
    "| Forms         | `react-hook-form`, `zod`                         |\n",
    "| UI Components | `@mui/material`, `shadcn/ui`, `chakra-ui`        |\n",
    "| Testing       | `@testing-library/react`, `vitest`               |\n",
    "| Charts        | `recharts`, `chart.js`, `plotly.js`              |\n",
    "| Utils         | `axios`, `uuid`, `dayjs`                         |\n",
    "\n",
    "---"
   ]
  },
  {
   "cell_type": "code",
   "execution_count": null,
   "id": "d6f308cb-0d59-43d4-9914-541d6ba9fed4",
   "metadata": {},
   "outputs": [],
   "source": []
  }
 ],
 "metadata": {
  "kernelspec": {
   "display_name": "python3",
   "language": "python",
   "name": "python3"
  }
 },
 "nbformat": 4,
 "nbformat_minor": 5
}
