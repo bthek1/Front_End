{
 "cells": [
  {
   "cell_type": "markdown",
   "id": "aacf9cf8-2f3b-456d-bc01-ecf922765bef",
   "metadata": {},
   "source": [
    "# Javascript\n",
    "\n",
    "> When writing JavaScript for the front end of a Django REST Framework (DRF) project, you're primarily working to integrate your front-end application with a DRF-powered back-end API. Here’s a comprehensive guide to ensure you cover everything you need to know.\n",
    "\n",
    "- skip_showdoc: true\n",
    "- skip_exec: true"
   ]
  },
  {
   "cell_type": "markdown",
   "id": "a89a0699-36bf-4bc4-8bde-b362eec229ae",
   "metadata": {},
   "source": [
    "### 1. **Understanding the Architecture:**\n",
    "   - **Django REST Framework (DRF)** provides the backend, offering an API that returns data (typically JSON) in response to HTTP requests.\n",
    "   - **JavaScript (JS)** on the front end is responsible for interacting with the DRF API to send and receive data asynchronously (usually via AJAX or `fetch`)."
   ]
  },
  {
   "cell_type": "markdown",
   "id": "0e6f763a-378e-4892-9c8e-e2dd2134dddd",
   "metadata": {},
   "source": [
    "### 2. **Setting Up the Front End:**\n",
    "   - DRF and Django are typically used with templates, but if you’re building a single-page application (SPA), the front end may be separated from Django’s template system.\n",
    "   - You might still use Django’s built-in templating, but increasingly, front-end frameworks like **React**, **Vue.js**, or **Vanilla JavaScript** with build tools (Webpack, Vite) are preferred."
   ]
  },
  {
   "cell_type": "markdown",
   "id": "cbcd5f22-6d43-4a4f-9618-f8a347311eb9",
   "metadata": {},
   "source": [
    "### 3. **Using APIs:**\n",
    "   - DRF’s role is to expose data as a REST API. You’ll use **JavaScript** (or a framework) to interact with this API.\n",
    "   - Use **`fetch`** or **Axios** (or any HTTP client) to send HTTP requests from the front end to the API.\n",
    "\n",
    "#### Example of Fetching Data in JavaScript:\n",
    "```javascript\n",
    "fetch('http://localhost:8000/api/items/')\n",
    "  .then(response => response.json())\n",
    "  .then(data => {\n",
    "    console.log(data);  // Handle the JSON data\n",
    "  })\n",
    "  .catch(error => {\n",
    "    console.error('Error:', error);\n",
    "  });\n",
    "```\n",
    "\n",
    "- **Methods**: You’ll need to know how to send different types of requests:\n",
    "  - **GET**: To retrieve data from the API.\n",
    "  - **POST**: To send data for creating new objects.\n",
    "  - **PUT/PATCH**: To update data.\n",
    "  - **DELETE**: To delete resources.\n",
    "\n",
    "#### Example of Sending Data:\n",
    "```javascript\n",
    "fetch('http://localhost:8000/api/items/', {\n",
    "  method: 'POST',\n",
    "  headers: {\n",
    "    'Content-Type': 'application/json',\n",
    "    'Authorization': 'Bearer <token>'  // If using token-based auth\n",
    "  },\n",
    "  body: JSON.stringify({name: 'Item', description: 'A new item'})\n",
    "})\n",
    "  .then(response => response.json())\n",
    "  .then(data => console.log('Item created:', data))\n",
    "  .catch(error => console.error('Error:', error));\n",
    "```"
   ]
  },
  {
   "cell_type": "markdown",
   "id": "16254b24-c914-442f-948c-9a5c379c559a",
   "metadata": {},
   "source": [
    "### 4. **Cross-Origin Resource Sharing (CORS):**\n",
    "   - When using JavaScript to make API requests from a front-end hosted on a different domain or port, you’ll need to handle **CORS**.\n",
    "   - **Django-cors-headers** can be used to configure CORS in your DRF project.\n",
    "\n",
    "#### Install and Configure `django-cors-headers`:\n",
    "   ```bash\n",
    "   pip install django-cors-headers\n",
    "   ```\n",
    "\n",
    "   In `settings.py`:\n",
    "   ```python\n",
    "   INSTALLED_APPS = [\n",
    "       ...,\n",
    "       'corsheaders',\n",
    "   ]\n",
    "\n",
    "   MIDDLEWARE = [\n",
    "       'corsheaders.middleware.CorsMiddleware',\n",
    "       ...,\n",
    "   ]\n",
    "\n",
    "   # Allow all origins (for development purposes):\n",
    "   CORS_ALLOW_ALL_ORIGINS = True\n",
    "   ```\n",
    "\n",
    "   - For production, configure **CORS_ALLOWED_ORIGINS** with specific origins."
   ]
  },
  {
   "cell_type": "markdown",
   "id": "c492299d-e691-4275-8508-7a6437b51a33",
   "metadata": {},
   "source": [
    "### 5. **Handling Authentication:**\n",
    "   - **JWT (JSON Web Tokens)** or **Token-based authentication** are common in DRF projects.\n",
    "   - Use the front end to send the token along with requests for protected routes.\n",
    "\n",
    "#### Example of Adding Authorization Header:\n",
    "```javascript\n",
    "fetch('http://localhost:8000/api/protected/', {\n",
    "  headers: {\n",
    "    'Authorization': 'Bearer ' + localStorage.getItem('access_token')  // Add the token here\n",
    "  }\n",
    "});\n",
    "```\n",
    "\n",
    "   - Store the token securely on the client side (e.g., in `localStorage` or `sessionStorage`)."
   ]
  },
  {
   "cell_type": "markdown",
   "id": "e9163c4d-c0e3-45b8-86e6-058f51dcc75d",
   "metadata": {},
   "source": [
    "### 6. **Error Handling in JavaScript:**\n",
    "   - Handle errors that come from the DRF API, such as 400 (bad request), 401 (unauthorized), 403 (forbidden), or 500 (server error).\n",
    "   \n",
    "   Example:\n",
    "   ```javascript\n",
    "   fetch('http://localhost:8000/api/resource/')\n",
    "     .then(response => {\n",
    "       if (!response.ok) {\n",
    "         throw new Error('Network response was not ok ' + response.statusText);\n",
    "       }\n",
    "       return response.json();\n",
    "     })\n",
    "     .then(data => console.log(data))\n",
    "     .catch(error => console.error('There was a problem with your fetch operation:', error));\n",
    "   ```"
   ]
  },
  {
   "cell_type": "markdown",
   "id": "be3a3991-57d0-45ec-864e-342f1c83442e",
   "metadata": {},
   "source": [
    "### 7. **Handling Forms and File Uploads:**\n",
    "   - For **HTML forms**, use JavaScript’s `FormData` to send form data, including file uploads, to DRF.\n",
    "   \n",
    "   Example of File Upload:\n",
    "   ```javascript\n",
    "   const formData = new FormData();\n",
    "   formData.append('file', fileInput.files[0]);\n",
    "   \n",
    "   fetch('http://localhost:8000/api/upload/', {\n",
    "     method: 'POST',\n",
    "     body: formData\n",
    "   })\n",
    "     .then(response => response.json())\n",
    "     .then(data => console.log('File uploaded:', data))\n",
    "     .catch(error => console.error('Error:', error));\n",
    "   ```"
   ]
  },
  {
   "cell_type": "markdown",
   "id": "1aaf4c9a-c89f-4fb4-9959-dd60c66c050e",
   "metadata": {},
   "source": [
    "### 8. **Front-End Frameworks:**\n",
    "   - **React** and **Vue.js** are popular frameworks to work with DRF. They offer better state management, routing, and modularity for building complex front-end applications.\n",
    "   \n",
    "   #### Example in React:\n",
    "   ```javascript\n",
    "   import React, { useState, useEffect } from 'react';\n",
    "\n",
    "   function Items() {\n",
    "     const [items, setItems] = useState([]);\n",
    "\n",
    "     useEffect(() => {\n",
    "       fetch('http://localhost:8000/api/items/')\n",
    "         .then(response => response.json())\n",
    "         .then(data => setItems(data))\n",
    "         .catch(error => console.error('Error:', error));\n",
    "     }, []);\n",
    "\n",
    "     return (\n",
    "       <div>\n",
    "         <h1>Items List</h1>\n",
    "         <ul>\n",
    "           {items.map(item => (\n",
    "             <li key={item.id}>{item.name}</li>\n",
    "           ))}\n",
    "         </ul>\n",
    "       </div>\n",
    "     );\n",
    "   }\n",
    "\n",
    "   export default Items;\n",
    "   ```"
   ]
  },
  {
   "cell_type": "markdown",
   "id": "c558b639-ad8c-405b-94f9-41e83ffa3426",
   "metadata": {},
   "source": [
    "### 9. **Frontend Build Tools:**\n",
    "   - If you use modern front-end tooling like **Webpack** or **Vite**, you can bundle your JavaScript assets for Django.\n",
    "\n",
    "#### Example: Using Webpack with Django\n",
    "1. Install Webpack:\n",
    "   ```bash\n",
    "   npm install webpack webpack-cli --save-dev\n",
    "   ```\n",
    "\n",
    "2. Configure `webpack.config.js`:\n",
    "   ```javascript\n",
    "   const path = require('path');\n",
    "\n",
    "   module.exports = {\n",
    "     entry: './src/index.js',\n",
    "     output: {\n",
    "       filename: 'bundle.js',\n",
    "       path: path.resolve(__dirname, 'static/js')\n",
    "     },\n",
    "     mode: 'development'\n",
    "   };\n",
    "   ```\n",
    "\n",
    "3. Use the generated `bundle.js` in your Django templates."
   ]
  },
  {
   "cell_type": "markdown",
   "id": "e104cb43-19fb-4fdf-886d-77a9258c7306",
   "metadata": {},
   "source": [
    "### 10. **Debugging and Testing:**\n",
    "   - Use **Chrome DevTools** or **Firefox Developer Tools** for debugging JavaScript and network requests.\n",
    "   - For automated testing of your JavaScript code interacting with DRF APIs, consider tools like **Jest** for unit tests and **Cypress** or **Puppeteer** for end-to-end testing.\n",
    "\n"
   ]
  },
  {
   "cell_type": "code",
   "execution_count": null,
   "id": "cfcd885c-0d59-4d78-9814-d43654d7f228",
   "metadata": {},
   "outputs": [],
   "source": []
  }
 ],
 "metadata": {
  "kernelspec": {
   "display_name": "python3",
   "language": "python",
   "name": "python3"
  }
 },
 "nbformat": 4,
 "nbformat_minor": 5
}
