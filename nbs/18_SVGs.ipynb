{
 "cells": [
  {
   "cell_type": "markdown",
   "id": "2864d85d-d1d5-442d-9d79-2e2416bf5408",
   "metadata": {},
   "source": [
    "# SVG\n",
    "\n",
    "> svgs\n",
    "\n",
    "- skip_showdoc: true\n",
    "- skip_exec: true\n",
    "\n"
   ]
  },
  {
   "cell_type": "markdown",
   "id": "cb3a02fc-5c3a-4305-ad08-05973a15a429",
   "metadata": {},
   "source": [
    "## What is SVG?\n",
    "\n",
    "* **SVG (Scalable Vector Graphics)** is an **XML** format for 2D graphics (resolution-independent, searchable, stylable).\n",
    "* Renders natively in all modern browsers; ideal for **icons, logos, charts, diagrams, UI overlays**, and **annotation layers** over Canvas/WebGL.\n",
    "\n",
    "---"
   ]
  },
  {
   "cell_type": "markdown",
   "id": "cc40fc69-35f5-4c46-b049-8286cd1990ed",
   "metadata": {},
   "source": [
    "## Core advantages & tradeoffs\n",
    "\n",
    "| Topic         | Why it matters                              | Tips                                                              |\n",
    "| ------------- | ------------------------------------------- | ----------------------------------------------------------------- |\n",
    "| Scalability   | No pixelation on zoom                       | Prefer SVG for crisp UI, charts, text                             |\n",
    "| Styling       | Works with **CSS** + inline styles          | Use classes for reuse (`.stroke-2`, `.muted`)                     |\n",
    "| Interactivity | JS events, hover states, SMIL/CSS animation | Keep DOM small; batch updates                                     |\n",
    "| Accessibility | Real text & titles/readers                  | Use `<title>`, `<desc>`, `role`, `aria-*`                         |\n",
    "| File size     | Often smaller than PNG for simple art       | Minify; gzip (`.svgz`)                                            |\n",
    "| Performance   | DOM can get heavy for 10k+ nodes            | Use `<use>`, simplify paths; swap to Canvas for very dense scenes |\n",
    "\n",
    "---"
   ]
  },
  {
   "cell_type": "markdown",
   "id": "0ce6d614-0bb6-4e13-a523-ec8dc47d6996",
   "metadata": {},
   "source": [
    "## Essential building blocks\n",
    "\n",
    "### Coordinate system & responsiveness\n",
    "\n",
    "* Use **`viewBox=\"minX minY width height\"`** to define drawing coords.\n",
    "* Make it responsive: set `width=\"100%\"` and rely on `viewBox` for scaling (omit fixed height or control via CSS).\n",
    "\n",
    "```xml\n",
    "<svg viewBox=\"0 0 400 200\" width=\"100%\" xmlns=\"http://www.w3.org/2000/svg\">\n",
    "  <!-- content -->\n",
    "</svg>\n",
    "```\n",
    "\n",
    "### Shapes & paths (the core tags)\n",
    "\n",
    "| Element      | Key attributes           | Notes                         |\n",
    "| ------------ | ------------------------ | ----------------------------- |\n",
    "| `<rect>`     | `x y width height rx ry` | Rounded corners via `rx/ry`   |\n",
    "| `<circle>`   | `cx cy r`                | Perfect for nodes/dots        |\n",
    "| `<ellipse>`  | `cx cy rx ry`            | Scalable circles              |\n",
    "| `<line>`     | `x1 y1 x2 y2`            | Simple segment                |\n",
    "| `<polyline>` | `points`                 | Open shape                    |\n",
    "| `<polygon>`  | `points`                 | Auto-closed shape             |\n",
    "| `<path>`     | `d`                      | Powerful Bézier curves & arcs |\n",
    "\n",
    "**Path command mini-cheat**\n",
    "\n",
    "* `M x y` move; `L x y` line; `H x`/`V y` axis lines\n",
    "* `C x1 y1 x2 y2 x y` cubic; `Q x1 y1 x y` quadratic\n",
    "* `A rx ry rot large-arc sweep x y` arc; `Z` close path\n",
    "\n",
    "### Styling\n",
    "\n",
    "* Inline: `fill`, `stroke`, `stroke-width`, `opacity`\n",
    "* CSS: target classes/IDs for reusable styles.\n",
    "\n",
    "```xml\n",
    "<style>\n",
    "  .muted { stroke: #94a3b8; fill: none; }\n",
    "</style>\n",
    "<path class=\"muted\" d=\"M10 10 L190 10\"/>\n",
    "```\n",
    "\n",
    "### Definitions & reuse\n",
    "\n",
    "* Put assets in `<defs>`: gradients, filters, symbols, clip/mask.\n",
    "* Reuse with `<use href=\"#symbolId\" />`.\n",
    "\n",
    "### Text & labels\n",
    "\n",
    "* `<text x y>`, `<tspan>` for subspans, `<textPath>` to flow along a curve.\n",
    "* For charts/diagrams: set `text-anchor=\"middle\"` and `dominant-baseline=\"middle\"` for centering.\n",
    "\n",
    "---"
   ]
  },
  {
   "cell_type": "markdown",
   "id": "69b0a5ab-ccbc-44dd-ba0e-ca26f49cbe20",
   "metadata": {},
   "source": [
    "## Effects & animation\n",
    "\n",
    "* **Gradients/Patterns**: `<linearGradient>`, `<radialGradient>`, `<pattern>`\n",
    "* **Filters**: `<feGaussianBlur>`, `<feDropShadow>`, `<feColorMatrix>` …\n",
    "* **Animations**:\n",
    "\n",
    "  * **SMIL** (built-in): `<animate>`, `<animateTransform>`\n",
    "  * **CSS animations**: for properties that are CSS-animatable\n",
    "  * **JavaScript/D3**: full control + data-binding\n",
    "\n",
    "Example SMIL:\n",
    "\n",
    "```xml\n",
    "<circle cx=\"40\" cy=\"40\" r=\"10\" fill=\"tomato\">\n",
    "  <animate attributeName=\"cx\" dur=\"2s\" values=\"40;160;40\" repeatCount=\"indefinite\"/>\n",
    "</circle>\n",
    "```\n",
    "\n",
    "---"
   ]
  },
  {
   "cell_type": "markdown",
   "id": "fa5da543-3626-4b85-b12b-950368892f88",
   "metadata": {},
   "source": [
    "## Accessibility & security\n",
    "\n",
    "* Add `<title>` and `<desc>` as first children for screen readers.\n",
    "* Avoid untrusted inline scripts in SVG; **sanitize user-uploaded SVGs**.\n",
    "* For decorative SVGs: `role=\"img\"` + `aria-hidden=\"true\"` (if appropriate).\n",
    "\n",
    "---"
   ]
  },
  {
   "cell_type": "markdown",
   "id": "648b6e66-8776-4853-8c7e-d88685c868af",
   "metadata": {},
   "source": [
    "## Optimizing & production tips\n",
    "\n",
    "* **Minify** (SVGO) and **gzip** (`.svgz`).\n",
    "* Break complex art into smaller symbols; instantiate via `<use>`.\n",
    "* Convert extremely dense layers to **Canvas/WebGL**, overlay **SVG** for crisp labels.\n",
    "* When embedding in web apps:\n",
    "\n",
    "  * **Inline** (`<svg>…</svg>`) for full CSS/JS control.\n",
    "  * **`<img src=\"…\">`** when you want it static and sandboxed.\n",
    "  * **React**: import as component or inline in JSX.\n",
    "\n",
    "---"
   ]
  },
  {
   "cell_type": "markdown",
   "id": "62b20c3c-2c62-4e86-ae5d-de66473c903e",
   "metadata": {},
   "source": [
    "## Python example: generate a responsive SVG bar chart (pure stdlib)\n",
    "\n",
    "**Works in JupyterLab** (and anywhere Python runs). Produces an SVG string and writes to file."
   ]
  },
  {
   "cell_type": "code",
   "execution_count": null,
   "id": "9ff1eae5-2c9f-4a20-ab04-109e4f540289",
   "metadata": {},
   "outputs": [
    {
     "data": {
      "image/svg+xml": [
       "<svg xmlns=\"http://www.w3.org/2000/svg\" viewBox=\"0 0 520 280\" width=\"100%\"><style>\n",
       "    .axis { stroke: #1f2937; stroke-width: 1; }\n",
       "    .grid { stroke: #e5e7eb; stroke-width: 1; }\n",
       "    .label { fill: #374151; font: 12px/1.2 DejaVu Sans, Arial; }\n",
       "    .title { fill: #111827; font: bold 14px/1.2 DejaVu Sans, Arial; }\n",
       "    </style><rect x=\"0\" y=\"0\" width=\"520\" height=\"280\" fill=\"#ffffff\"/><line x1=\"40\" y1=\"40.00\" x2=\"480\" y2=\"40.00\" class=\"grid\"/><line x1=\"40\" y1=\"90.00\" x2=\"480\" y2=\"90.00\" class=\"grid\"/><line x1=\"40\" y1=\"140.00\" x2=\"480\" y2=\"140.00\" class=\"grid\"/><line x1=\"40\" y1=\"190.00\" x2=\"480\" y2=\"190.00\" class=\"grid\"/><line x1=\"40\" y1=\"240.00\" x2=\"480\" y2=\"240.00\" class=\"grid\"/><line x1=\"40\" y1=\"240\" x2=\"480\" y2=\"240\" class=\"axis\"/><line x1=\"40\" y1=\"40\" x2=\"40\" y2=\"240\" class=\"axis\"/><rect x=\"46.00\" y=\"173.33\" width=\"61.33\" height=\"66.67\" fill=\"#60a5fa\" rx=\"4\" ry=\"4\"/><text x=\"76.67\" y=\"256.00\" text-anchor=\"middle\" class=\"label\">A</text><text x=\"76.67\" y=\"167.33\" text-anchor=\"middle\" class=\"label\">3</text><rect x=\"119.33\" y=\"84.44\" width=\"61.33\" height=\"155.56\" fill=\"#60a5fa\" rx=\"4\" ry=\"4\"/><text x=\"150.00\" y=\"256.00\" text-anchor=\"middle\" class=\"label\">B</text><text x=\"150.00\" y=\"78.44\" text-anchor=\"middle\" class=\"label\">7</text><rect x=\"192.67\" y=\"128.89\" width=\"61.33\" height=\"111.11\" fill=\"#60a5fa\" rx=\"4\" ry=\"4\"/><text x=\"223.33\" y=\"256.00\" text-anchor=\"middle\" class=\"label\">C</text><text x=\"223.33\" y=\"122.89\" text-anchor=\"middle\" class=\"label\">5</text><rect x=\"266.00\" y=\"40.00\" width=\"61.33\" height=\"200.00\" fill=\"#60a5fa\" rx=\"4\" ry=\"4\"/><text x=\"296.67\" y=\"256.00\" text-anchor=\"middle\" class=\"label\">D</text><text x=\"296.67\" y=\"34.00\" text-anchor=\"middle\" class=\"label\">9</text><rect x=\"339.33\" y=\"151.11\" width=\"61.33\" height=\"88.89\" fill=\"#60a5fa\" rx=\"4\" ry=\"4\"/><text x=\"370.00\" y=\"256.00\" text-anchor=\"middle\" class=\"label\">E</text><text x=\"370.00\" y=\"145.11\" text-anchor=\"middle\" class=\"label\">4</text><rect x=\"412.67\" y=\"106.67\" width=\"61.33\" height=\"133.33\" fill=\"#60a5fa\" rx=\"4\" ry=\"4\"/><text x=\"443.33\" y=\"256.00\" text-anchor=\"middle\" class=\"label\">F</text><text x=\"443.33\" y=\"100.67\" text-anchor=\"middle\" class=\"label\">6</text><text x=\"260.00\" y=\"28.00\" text-anchor=\"middle\" class=\"title\">Example SVG Bar Chart</text></svg>"
      ],
      "text/plain": [
       "<IPython.core.display.SVG object>"
      ]
     },
     "metadata": {},
     "output_type": "display_data"
    }
   ],
   "source": [
    "\n",
    "from xml.etree.ElementTree import Element, SubElement, tostring\n",
    "from IPython.display import SVG, display  # Optional: for Jupyter inline display\n",
    "\n",
    "def svg_bar_chart(\n",
    "    values, labels=None, width=520, height=280, margin=40, colors=None, title=None\n",
    "):\n",
    "    \"\"\"Return an SVG string for a responsive bar chart.\"\"\"\n",
    "    labels = labels or [str(i+1) for i in range(len(values))]\n",
    "    max_v = max(values) if values else 1\n",
    "    plot_w = width - 2 * margin\n",
    "    plot_h = height - 2 * margin\n",
    "    bar_w = plot_w / max(len(values), 1)\n",
    "\n",
    "    svg = Element(\"svg\", {\n",
    "        \"xmlns\": \"http://www.w3.org/2000/svg\",\n",
    "        \"viewBox\": f\"0 0 {width} {height}\",\n",
    "        \"width\": \"100%\"  # responsive\n",
    "    })\n",
    "\n",
    "    # Styles (scoped to this SVG)\n",
    "    style = SubElement(svg, \"style\")\n",
    "    style.text = \"\"\"\n",
    "    .axis { stroke: #1f2937; stroke-width: 1; }\n",
    "    .grid { stroke: #e5e7eb; stroke-width: 1; }\n",
    "    .label { fill: #374151; font: 12px/1.2 DejaVu Sans, Arial; }\n",
    "    .title { fill: #111827; font: bold 14px/1.2 DejaVu Sans, Arial; }\n",
    "    \"\"\"\n",
    "\n",
    "    # Background\n",
    "    SubElement(svg, \"rect\", {\"x\": \"0\", \"y\": \"0\", \"width\": str(width), \"height\": str(height), \"fill\": \"#ffffff\"})\n",
    "\n",
    "    # Grid (y)\n",
    "    for gy in range(5):\n",
    "        y = margin + (gy * plot_h / 4.0)\n",
    "        SubElement(svg, \"line\", {\"x1\": str(margin), \"y1\": f\"{y:.2f}\",\n",
    "                                 \"x2\": str(width - margin), \"y2\": f\"{y:.2f}\",\n",
    "                                 \"class\": \"grid\"})\n",
    "\n",
    "    # Axes\n",
    "    SubElement(svg, \"line\", {\"x1\": str(margin), \"y1\": str(height - margin),\n",
    "                             \"x2\": str(width - margin), \"y2\": str(height - margin),\n",
    "                             \"class\": \"axis\"})\n",
    "    SubElement(svg, \"line\", {\"x1\": str(margin), \"y1\": str(margin),\n",
    "                             \"x2\": str(margin), \"y2\": str(height - margin),\n",
    "                             \"class\": \"axis\"})\n",
    "\n",
    "    # Bars\n",
    "    for i, v in enumerate(values):\n",
    "        # Height proportional to value\n",
    "        bh = 0 if max_v == 0 else (v / max_v) * plot_h\n",
    "        x = margin + i * bar_w + 6\n",
    "        y = (height - margin) - bh\n",
    "        fill = (colors[i % len(colors)] if colors else \"#60a5fa\")  # default blue-ish\n",
    "        SubElement(svg, \"rect\", {\n",
    "            \"x\": f\"{x:.2f}\", \"y\": f\"{y:.2f}\",\n",
    "            \"width\": f\"{bar_w - 12:.2f}\", \"height\": f\"{bh:.2f}\",\n",
    "            \"fill\": fill, \"rx\": \"4\", \"ry\": \"4\"\n",
    "        })\n",
    "        # X labels\n",
    "        SubElement(svg, \"text\", {\n",
    "            \"x\": f\"{x + (bar_w - 12)/2:.2f}\",\n",
    "            \"y\": f\"{height - margin + 16:.2f}\",\n",
    "            \"text-anchor\": \"middle\",\n",
    "            \"class\": \"label\"\n",
    "        }).text = labels[i]\n",
    "        # Value labels\n",
    "        SubElement(svg, \"text\", {\n",
    "            \"x\": f\"{x + (bar_w - 12)/2:.2f}\",\n",
    "            \"y\": f\"{y - 6:.2f}\",\n",
    "            \"text-anchor\": \"middle\",\n",
    "            \"class\": \"label\"\n",
    "        }).text = str(v)\n",
    "\n",
    "    # Title\n",
    "    if title:\n",
    "        SubElement(svg, \"text\", {\n",
    "            \"x\": f\"{width/2:.2f}\", \"y\": f\"{margin - 12:.2f}\",\n",
    "            \"text-anchor\": \"middle\", \"class\": \"title\"\n",
    "        }).text = title\n",
    "\n",
    "    return tostring(svg, encoding=\"unicode\")\n",
    "\n",
    "# --- Example usage ---\n",
    "vals = [3, 7, 5, 9, 4, 6]\n",
    "labs = [\"A\", \"B\", \"C\", \"D\", \"E\", \"F\"]\n",
    "svg_str = svg_bar_chart(vals, labs, title=\"Example SVG Bar Chart\")\n",
    "\n",
    "# Save to file\n",
    "with open(\"chart.svg\", \"w\", encoding=\"utf-8\") as f:\n",
    "    f.write(svg_str)\n",
    "\n",
    "# In JupyterLab, render inline:\n",
    "display(SVG(data=svg_str))\n"
   ]
  },
  {
   "cell_type": "markdown",
   "id": "08ba7959-e185-44fb-882a-1a4692bad1fc",
   "metadata": {},
   "source": [
    "**Why this approach?**\n",
    "\n",
    "* Zero dependencies (stdlib `xml.etree.ElementTree`).\n",
    "* **Responsive** via `viewBox + width=\"100%\"`.\n",
    "* Easy to extend (tooltips, `<title>`, animations, gradients).\n",
    "\n",
    "---"
   ]
  },
  {
   "cell_type": "markdown",
   "id": "db28da53-96b0-40e1-a47f-2fddd1e74502",
   "metadata": {},
   "source": [
    "## Advanced features you’ll likely use next\n",
    "\n",
    "* **Markers** (arrows): use `<marker>` in `<defs>` and `marker-end=\"url(#id)\"`.\n",
    "* **Text along curves**: define a path (`<path id=\"wave\" d=\"…\">`) then `<textPath href=\"#wave\">`.\n",
    "* **Masks & clips**: spotlight effects, image brushes (`<mask>`, `<clipPath>`).\n",
    "* **Filters**: crisp drop-shadows that print beautifully (`<feDropShadow>` beats CSS blur for vector fidelity).\n",
    "* **Symbol sprites**: define icons once with `<symbol>` and instantiate with `<use>` all over.\n",
    "\n",
    "---"
   ]
  },
  {
   "cell_type": "markdown",
   "id": "f0927dcd-5f1a-4ef4-aa7a-54cae0b27140",
   "metadata": {},
   "source": [
    "## Tooling & ecosystem\n",
    "\n",
    "* **Authoring**: Inkscape, Illustrator, Figma (export SVG; simplify before shipping).\n",
    "* **Programmatic (Python)**: `svgwrite` (nice API), `cairosvg` (convert SVG→PNG/PDF), `lxml` (advanced XML), `BeautifulSoup` (post-process).\n",
    "* **Web**: D3.js for data binding; React inline SVG components for UI; SVGO for minification.\n",
    "\n",
    "---"
   ]
  },
  {
   "cell_type": "markdown",
   "id": "01a34795-b96d-4a1d-9923-701afc4abe44",
   "metadata": {},
   "source": [
    "## Quick checklist for production\n",
    "\n",
    "* ✅ Use `viewBox` + responsive sizing\n",
    "* ✅ Add `<title>`/`<desc>` for accessibility\n",
    "* ✅ Minify & gzip\n",
    "* ✅ Sanitize user-supplied SVGs\n",
    "* ✅ Keep DOM lightweight; prefer `<use>` for repetition\n",
    "* ✅ Consider Canvas/WebGL for very dense layers; keep labels in SVG\n",
    "\n",
    "---\n"
   ]
  },
  {
   "cell_type": "markdown",
   "id": "9dfdc854-cc39-4dd6-b243-06ff605c9eee",
   "metadata": {},
   "source": [
    "## Example"
   ]
  },
  {
   "cell_type": "markdown",
   "id": "7475b34c-f94e-4bd9-a0ea-deb8de971328",
   "metadata": {},
   "source": [
    "### 🟦 1. Basic Rectangle + Circle"
   ]
  },
  {
   "cell_type": "code",
   "execution_count": null,
   "id": "a3bf7eef-8e61-4f9d-a5d7-94c9fcec2c80",
   "metadata": {},
   "outputs": [
    {
     "data": {
      "image/svg+xml": [
       "<svg xmlns=\"http://www.w3.org/2000/svg\" width=\"200\" height=\"120\">\n",
       "  <rect x=\"10\" y=\"10\" width=\"80\" height=\"100\" fill=\"lightblue\" stroke=\"navy\" stroke-width=\"2\"/>\n",
       "  <circle cx=\"150\" cy=\"60\" r=\"40\" fill=\"salmon\" stroke=\"red\" stroke-width=\"2\"/>\n",
       "</svg>"
      ],
      "text/plain": [
       "<IPython.core.display.SVG object>"
      ]
     },
     "metadata": {},
     "output_type": "display_data"
    }
   ],
   "source": [
    "from IPython.display import SVG, display\n",
    "\n",
    "svg_str = \"\"\"\n",
    "<svg xmlns=\"http://www.w3.org/2000/svg\" width=\"200\" height=\"120\">\n",
    "  <rect x=\"10\" y=\"10\" width=\"80\" height=\"100\" fill=\"lightblue\" stroke=\"navy\" stroke-width=\"2\"/>\n",
    "  <circle cx=\"150\" cy=\"60\" r=\"40\" fill=\"salmon\" stroke=\"red\" stroke-width=\"2\"/>\n",
    "</svg>\n",
    "\"\"\"\n",
    "\n",
    "display(SVG(svg_str))"
   ]
  },
  {
   "cell_type": "markdown",
   "id": "fa783850-ef20-491d-94bd-0075883ca839",
   "metadata": {},
   "source": [
    "---\n",
    "\n",
    "### 🖊 2. Line + Polygon"
   ]
  },
  {
   "cell_type": "code",
   "execution_count": null,
   "id": "0b1e0143-8703-483c-9be3-d106e71d75c6",
   "metadata": {},
   "outputs": [
    {
     "data": {
      "image/svg+xml": [
       "<svg xmlns=\"http://www.w3.org/2000/svg\" width=\"200\" height=\"120\">\n",
       "  <line x1=\"10\" y1=\"10\" x2=\"190\" y2=\"110\" stroke=\"green\" stroke-width=\"3\"/>\n",
       "  <polygon points=\"60,20 100,100 20,100\" fill=\"orange\" stroke=\"black\" stroke-width=\"2\"/>\n",
       "</svg>"
      ],
      "text/plain": [
       "<IPython.core.display.SVG object>"
      ]
     },
     "metadata": {},
     "output_type": "display_data"
    }
   ],
   "source": [
    "svg_str = \"\"\"\n",
    "<svg xmlns=\"http://www.w3.org/2000/svg\" width=\"200\" height=\"120\">\n",
    "  <line x1=\"10\" y1=\"10\" x2=\"190\" y2=\"110\" stroke=\"green\" stroke-width=\"3\"/>\n",
    "  <polygon points=\"60,20 100,100 20,100\" fill=\"orange\" stroke=\"black\" stroke-width=\"2\"/>\n",
    "</svg>\n",
    "\"\"\"\n",
    "\n",
    "display(SVG(svg_str))"
   ]
  },
  {
   "cell_type": "markdown",
   "id": "603c5f08-23d0-4628-a52e-526f0884f821",
   "metadata": {},
   "source": [
    "### 📝 3. Text Example"
   ]
  },
  {
   "cell_type": "code",
   "execution_count": null,
   "id": "c2143a79-1a51-4cb6-beb8-4025ce91997d",
   "metadata": {},
   "outputs": [
    {
     "data": {
      "image/svg+xml": [
       "<svg xmlns=\"http://www.w3.org/2000/svg\" width=\"250\" height=\"100\">\n",
       "  <text x=\"20\" y=\"40\" font-family=\"Arial\" font-size=\"20\" fill=\"purple\">Hello SVG!</text>\n",
       "  <text x=\"20\" y=\"70\" font-family=\"Courier New\" font-size=\"16\" fill=\"darkblue\">In JupyterLab</text>\n",
       "</svg>"
      ],
      "text/plain": [
       "<IPython.core.display.SVG object>"
      ]
     },
     "metadata": {},
     "output_type": "display_data"
    }
   ],
   "source": [
    "svg_str = \"\"\"\n",
    "<svg xmlns=\"http://www.w3.org/2000/svg\" width=\"250\" height=\"100\">\n",
    "  <text x=\"20\" y=\"40\" font-family=\"Arial\" font-size=\"20\" fill=\"purple\">Hello SVG!</text>\n",
    "  <text x=\"20\" y=\"70\" font-family=\"Courier New\" font-size=\"16\" fill=\"darkblue\">In JupyterLab</text>\n",
    "</svg>\n",
    "\"\"\"\n",
    "\n",
    "display(SVG(svg_str))"
   ]
  },
  {
   "cell_type": "markdown",
   "id": "b8514e27-cc4f-4478-b13a-da3e0c46c7bf",
   "metadata": {},
   "source": [
    "### 🌈 4. Gradient Fill"
   ]
  },
  {
   "cell_type": "code",
   "execution_count": null,
   "id": "035f7db4-2504-4045-ad9f-096612bcf0d7",
   "metadata": {},
   "outputs": [
    {
     "data": {
      "image/svg+xml": [
       "<svg xmlns=\"http://www.w3.org/2000/svg\" width=\"220\" height=\"120\">\n",
       "  <defs>\n",
       "    <linearGradient id=\"grad\" x1=\"0%\" y1=\"0%\" x2=\"100%\" y2=\"0%\">\n",
       "      <stop offset=\"0%\" style=\"stop-color:skyblue; stop-opacity:1\"/>\n",
       "      <stop offset=\"100%\" style=\"stop-color:steelblue; stop-opacity:1\"/>\n",
       "    </linearGradient>\n",
       "  </defs>\n",
       "  <rect x=\"10\" y=\"10\" width=\"200\" height=\"100\" fill=\"url(#grad)\" stroke=\"black\"/>\n",
       "</svg>"
      ],
      "text/plain": [
       "<IPython.core.display.SVG object>"
      ]
     },
     "metadata": {},
     "output_type": "display_data"
    }
   ],
   "source": [
    "svg_str = \"\"\"\n",
    "<svg xmlns=\"http://www.w3.org/2000/svg\" width=\"220\" height=\"120\">\n",
    "  <defs>\n",
    "    <linearGradient id=\"grad\" x1=\"0%\" y1=\"0%\" x2=\"100%\" y2=\"0%\">\n",
    "      <stop offset=\"0%\" style=\"stop-color:skyblue; stop-opacity:1\" />\n",
    "      <stop offset=\"100%\" style=\"stop-color:steelblue; stop-opacity:1\" />\n",
    "    </linearGradient>\n",
    "  </defs>\n",
    "  <rect x=\"10\" y=\"10\" width=\"200\" height=\"100\" fill=\"url(#grad)\" stroke=\"black\"/>\n",
    "</svg>\n",
    "\"\"\"\n",
    "\n",
    "display(SVG(svg_str))"
   ]
  },
  {
   "cell_type": "markdown",
   "id": "cab47024-e209-4a64-828a-d741c0906e3d",
   "metadata": {},
   "source": [
    "### 🔄 5. Simple Animation"
   ]
  },
  {
   "cell_type": "code",
   "execution_count": null,
   "id": "dd788575-7535-420e-9843-dd3161e2d309",
   "metadata": {},
   "outputs": [
    {
     "data": {
      "image/svg+xml": [
       "<svg xmlns=\"http://www.w3.org/2000/svg\" width=\"250\" height=\"120\">\n",
       "  <circle cx=\"40\" cy=\"60\" r=\"20\" fill=\"tomato\">\n",
       "    <animate attributeName=\"cx\" from=\"40\" to=\"200\" dur=\"2s\" repeatCount=\"indefinite\"/>\n",
       "  </circle>\n",
       "</svg>"
      ],
      "text/plain": [
       "<IPython.core.display.SVG object>"
      ]
     },
     "metadata": {},
     "output_type": "display_data"
    }
   ],
   "source": [
    "\n",
    "svg_str = \"\"\"\n",
    "<svg xmlns=\"http://www.w3.org/2000/svg\" width=\"250\" height=\"120\">\n",
    "  <circle cx=\"40\" cy=\"60\" r=\"20\" fill=\"tomato\">\n",
    "    <animate attributeName=\"cx\" from=\"40\" to=\"200\" dur=\"2s\" repeatCount=\"indefinite\" />\n",
    "  </circle>\n",
    "</svg>\n",
    "\"\"\"\n",
    "\n",
    "display(SVG(svg_str))"
   ]
  },
  {
   "cell_type": "markdown",
   "id": "f117c789-ed82-4af4-8f35-32b147d72b0b",
   "metadata": {},
   "source": [
    "### 🔄 6. Bouncing Ball"
   ]
  },
  {
   "cell_type": "code",
   "execution_count": null,
   "id": "5884f85c-8abf-4818-8392-4a02fe78310c",
   "metadata": {},
   "outputs": [
    {
     "data": {
      "image/svg+xml": [
       "<svg xmlns=\"http://www.w3.org/2000/svg\" width=\"300\" height=\"150\">\n",
       "  <circle cx=\"50\" cy=\"50\" r=\"20\" fill=\"tomato\">\n",
       "    <animate attributeName=\"cy\" values=\"50;120;50\" dur=\"1s\" repeatCount=\"indefinite\"/>\n",
       "    <animate attributeName=\"cx\" values=\"50;250;50\" dur=\"2s\" repeatCount=\"indefinite\"/>\n",
       "  </circle>\n",
       "</svg>"
      ],
      "text/plain": [
       "<IPython.core.display.SVG object>"
      ]
     },
     "metadata": {},
     "output_type": "display_data"
    }
   ],
   "source": [
    "from IPython.display import SVG, display\n",
    "\n",
    "svg_bounce = \"\"\"\n",
    "<svg xmlns=\"http://www.w3.org/2000/svg\" width=\"300\" height=\"150\">\n",
    "  <circle cx=\"50\" cy=\"50\" r=\"20\" fill=\"tomato\">\n",
    "    <animate attributeName=\"cy\" values=\"50;120;50\" dur=\"1s\" repeatCount=\"indefinite\"/>\n",
    "    <animate attributeName=\"cx\" values=\"50;250;50\" dur=\"2s\" repeatCount=\"indefinite\"/>\n",
    "  </circle>\n",
    "</svg>\n",
    "\"\"\"\n",
    "\n",
    "display(SVG(svg_bounce))\n"
   ]
  },
  {
   "cell_type": "markdown",
   "id": "054b37f0-c91f-43d8-b278-41242800b328",
   "metadata": {},
   "source": [
    "### 🌈 7. Color-Changing Circle"
   ]
  },
  {
   "cell_type": "code",
   "execution_count": null,
   "id": "81efafc6-9c62-41d0-8d3b-418831ca64ad",
   "metadata": {},
   "outputs": [
    {
     "data": {
      "image/svg+xml": [
       "<svg xmlns=\"http://www.w3.org/2000/svg\" width=\"200\" height=\"200\">\n",
       "  <circle cx=\"100\" cy=\"100\" r=\"50\" fill=\"red\">\n",
       "    <animate attributeName=\"fill\" values=\"red;blue;green;purple;red\" dur=\"4s\" repeatCount=\"indefinite\"/>\n",
       "  </circle>\n",
       "</svg>"
      ],
      "text/plain": [
       "<IPython.core.display.SVG object>"
      ]
     },
     "metadata": {},
     "output_type": "display_data"
    }
   ],
   "source": [
    "svg_color = \"\"\"\n",
    "<svg xmlns=\"http://www.w3.org/2000/svg\" width=\"200\" height=\"200\">\n",
    "  <circle cx=\"100\" cy=\"100\" r=\"50\" fill=\"red\">\n",
    "    <animate attributeName=\"fill\" values=\"red;blue;green;purple;red\" dur=\"4s\" repeatCount=\"indefinite\"/>\n",
    "  </circle>\n",
    "</svg>\n",
    "\"\"\"\n",
    "\n",
    "display(SVG(svg_color))\n",
    "\n"
   ]
  },
  {
   "cell_type": "markdown",
   "id": "516f3318-a7cc-4fb2-b405-cd821a5a0330",
   "metadata": {},
   "source": [
    "### 📊 8. Growing Bar Graph"
   ]
  },
  {
   "cell_type": "code",
   "execution_count": null,
   "id": "66a2c7cb-d805-4ad7-afd9-5c47eb0f5e42",
   "metadata": {},
   "outputs": [
    {
     "data": {
      "image/svg+xml": [
       "<svg xmlns=\"http://www.w3.org/2000/svg\" width=\"300\" height=\"150\">\n",
       "  <rect x=\"30\" y=\"100\" width=\"40\" height=\"0\" fill=\"steelblue\">\n",
       "    <animate attributeName=\"height\" from=\"0\" to=\"80\" dur=\"1s\" fill=\"freeze\"/>\n",
       "    <animate attributeName=\"y\" from=\"100\" to=\"20\" dur=\"1s\" fill=\"freeze\"/>\n",
       "  </rect>\n",
       "  <rect x=\"100\" y=\"100\" width=\"40\" height=\"0\" fill=\"orange\">\n",
       "    <animate attributeName=\"height\" from=\"0\" to=\"60\" dur=\"1.5s\" fill=\"freeze\"/>\n",
       "    <animate attributeName=\"y\" from=\"100\" to=\"40\" dur=\"1.5s\" fill=\"freeze\"/>\n",
       "  </rect>\n",
       "  <rect x=\"170\" y=\"100\" width=\"40\" height=\"0\" fill=\"tomato\">\n",
       "    <animate attributeName=\"height\" from=\"0\" to=\"100\" dur=\"2s\" fill=\"freeze\"/>\n",
       "    <animate attributeName=\"y\" from=\"100\" to=\"0\" dur=\"2s\" fill=\"freeze\"/>\n",
       "  </rect>\n",
       "</svg>"
      ],
      "text/plain": [
       "<IPython.core.display.SVG object>"
      ]
     },
     "metadata": {},
     "output_type": "display_data"
    }
   ],
   "source": [
    "svg_bar = \"\"\"\n",
    "<svg xmlns=\"http://www.w3.org/2000/svg\" width=\"300\" height=\"150\">\n",
    "  <rect x=\"30\" y=\"100\" width=\"40\" height=\"0\" fill=\"steelblue\">\n",
    "    <animate attributeName=\"height\" from=\"0\" to=\"80\" dur=\"1s\" fill=\"freeze\"/>\n",
    "    <animate attributeName=\"y\" from=\"100\" to=\"20\" dur=\"1s\" fill=\"freeze\"/>\n",
    "  </rect>\n",
    "  <rect x=\"100\" y=\"100\" width=\"40\" height=\"0\" fill=\"orange\">\n",
    "    <animate attributeName=\"height\" from=\"0\" to=\"60\" dur=\"1.5s\" fill=\"freeze\"/>\n",
    "    <animate attributeName=\"y\" from=\"100\" to=\"40\" dur=\"1.5s\" fill=\"freeze\"/>\n",
    "  </rect>\n",
    "  <rect x=\"170\" y=\"100\" width=\"40\" height=\"0\" fill=\"tomato\">\n",
    "    <animate attributeName=\"height\" from=\"0\" to=\"100\" dur=\"2s\" fill=\"freeze\"/>\n",
    "    <animate attributeName=\"y\" from=\"100\" to=\"0\" dur=\"2s\" fill=\"freeze\"/>\n",
    "  </rect>\n",
    "</svg>\n",
    "\"\"\"\n",
    "\n",
    "display(SVG(svg_bar))\n"
   ]
  },
  {
   "cell_type": "markdown",
   "id": "553ee9ef-49b7-4832-8bb5-59cbc5519b45",
   "metadata": {},
   "source": [
    "### 🌀 9. Rotating Loader (Spinner)"
   ]
  },
  {
   "cell_type": "code",
   "execution_count": null,
   "id": "3194bbfc-4b3e-4a4d-9c6b-819aab1077a6",
   "metadata": {},
   "outputs": [
    {
     "data": {
      "image/svg+xml": [
       "<svg xmlns=\"http://www.w3.org/2000/svg\" width=\"120\" height=\"120\" viewBox=\"0 0 100 100\">\n",
       "  <circle cx=\"50\" cy=\"50\" r=\"40\" stroke=\"blue\" stroke-width=\"6\" fill=\"none\" stroke-dasharray=\"60 40\">\n",
       "    <animateTransform attributeName=\"transform\" type=\"rotate\" from=\"0 50 50\" to=\"360 50 50\" dur=\"1s\" repeatCount=\"indefinite\"/>\n",
       "  </circle>\n",
       "</svg>"
      ],
      "text/plain": [
       "<IPython.core.display.SVG object>"
      ]
     },
     "metadata": {},
     "output_type": "display_data"
    }
   ],
   "source": [
    "svg_spinner = \"\"\"\n",
    "<svg xmlns=\"http://www.w3.org/2000/svg\" width=\"120\" height=\"120\" viewBox=\"0 0 100 100\">\n",
    "  <circle cx=\"50\" cy=\"50\" r=\"40\" stroke=\"blue\" stroke-width=\"6\" fill=\"none\" stroke-dasharray=\"60 40\">\n",
    "    <animateTransform attributeName=\"transform\" type=\"rotate\" from=\"0 50 50\" to=\"360 50 50\" dur=\"1s\" repeatCount=\"indefinite\"/>\n",
    "  </circle>\n",
    "</svg>\n",
    "\"\"\"\n",
    "\n",
    "display(SVG(svg_spinner))\n",
    "\n"
   ]
  },
  {
   "cell_type": "markdown",
   "id": "f9484238-0440-416d-bebd-c9462f001e33",
   "metadata": {},
   "source": [
    "### 🌟 10. Star Path Glow Animation"
   ]
  },
  {
   "cell_type": "code",
   "execution_count": null,
   "id": "e7d49656-53b7-4933-bed2-c1de198ce21e",
   "metadata": {},
   "outputs": [
    {
     "data": {
      "image/svg+xml": [
       "<svg xmlns=\"http://www.w3.org/2000/svg\" width=\"250\" height=\"250\">\n",
       "  <polygon points=\"125,20 150,100 230,100 160,150 185,230 125,180 65,230 90,150 20,100 100,100\" fill=\"gold\" stroke=\"orange\" stroke-width=\"3\">\n",
       "    <animate attributeName=\"fill\" values=\"gold;yellow;orange;gold\" dur=\"3s\" repeatCount=\"indefinite\"/>\n",
       "    <animate attributeName=\"stroke-width\" values=\"3;6;3\" dur=\"2s\" repeatCount=\"indefinite\"/>\n",
       "  </polygon>\n",
       "</svg>"
      ],
      "text/plain": [
       "<IPython.core.display.SVG object>"
      ]
     },
     "metadata": {},
     "output_type": "display_data"
    }
   ],
   "source": [
    "svg_star = \"\"\"\n",
    "<svg xmlns=\"http://www.w3.org/2000/svg\" width=\"250\" height=\"250\">\n",
    "  <polygon points=\"125,20 150,100 230,100 160,150 185,230 125,180 65,230 90,150 20,100 100,100\"\n",
    "           fill=\"gold\" stroke=\"orange\" stroke-width=\"3\">\n",
    "    <animate attributeName=\"fill\" values=\"gold;yellow;orange;gold\" dur=\"3s\" repeatCount=\"indefinite\"/>\n",
    "    <animate attributeName=\"stroke-width\" values=\"3;6;3\" dur=\"2s\" repeatCount=\"indefinite\"/>\n",
    "  </polygon>\n",
    "</svg>\n",
    "\"\"\"\n",
    "\n",
    "display(SVG(svg_star))\n"
   ]
  },
  {
   "cell_type": "code",
   "execution_count": null,
   "id": "644e25a9-77be-4717-9d7f-4e2909664e61",
   "metadata": {},
   "outputs": [],
   "source": []
  }
 ],
 "metadata": {
  "kernelspec": {
   "display_name": "python3",
   "language": "python",
   "name": "python3"
  }
 },
 "nbformat": 4,
 "nbformat_minor": 5
}
